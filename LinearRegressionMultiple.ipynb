{
 "cells": [
  {
   "cell_type": "code",
   "execution_count": 25,
   "metadata": {},
   "outputs": [],
   "source": [
    "import numpy as np\n",
    "from sklearn.datasets import make_regression\n",
    "import matplotlib.pyplot as plt"
   ]
  },
  {
   "cell_type": "markdown",
   "metadata": {},
   "source": [
    "# Dataset"
   ]
  },
  {
   "cell_type": "code",
   "execution_count": 26,
   "metadata": {},
   "outputs": [
    {
     "data": {
      "text/plain": [
       "<matplotlib.collections.PathCollection at 0x15cbf0ef9a0>"
      ]
     },
     "execution_count": 26,
     "metadata": {},
     "output_type": "execute_result"
    },
    {
     "data": {
      "image/png": "[encoded data removed]",
      "text/plain": [
       "<Figure size 432x288 with 1 Axes>"
      ]
     },
     "metadata": {
      "needs_background": "light"
     },
     "output_type": "display_data"
    }
   ],
   "source": [
    "x,y =make_regression(n_samples = 100, n_features=1, noise=10)\n",
    "y = y + abs(y/2)\n",
    "plt.scatter(x,y)"
   ]
  },
  {
   "cell_type": "code",
   "execution_count": 27,
   "metadata": {},
   "outputs": [
    {
     "name": "stdout",
     "output_type": "stream",
     "text": [
      "(100, 1)\n",
      "(100, 1)\n"
     ]
    }
   ],
   "source": [
    "print(x.shape)\n",
    "y=y.reshape(y.shape[0],1   )\n",
    "print(y.shape)"
   ]
  },
  {
   "cell_type": "code",
   "execution_count": 28,
   "metadata": {},
   "outputs": [
    {
     "data": {
      "text/plain": [
       "(100, 3)"
      ]
     },
     "execution_count": 28,
     "metadata": {},
     "output_type": "execute_result"
    }
   ],
   "source": [
    "## Matrice X\n",
    "X = np.hstack((x, np.ones(x.shape)))\n",
    "X = np.hstack((x**2, X))\n",
    "X.shape"
   ]
  },
  {
   "cell_type": "code",
   "execution_count": 29,
   "metadata": {},
   "outputs": [
    {
     "data": {
      "text/plain": [
       "array([[-0.35915851],\n",
       "       [ 3.5737936 ],\n",
       "       [ 1.71696251]])"
      ]
     },
     "execution_count": 29,
     "metadata": {},
     "output_type": "execute_result"
    }
   ],
   "source": [
    "theta= np.random.randn(3,1)\n",
    "theta"
   ]
  },
  {
   "cell_type": "markdown",
   "metadata": {},
   "source": [
    "# Modele"
   ]
  },
  {
   "cell_type": "markdown",
   "metadata": {},
   "source": [
    "$$\n",
    "y=ax^2+bx+c\n",
    "$$"
   ]
  },
  {
   "cell_type": "code",
   "execution_count": 30,
   "metadata": {},
   "outputs": [],
   "source": [
    "def model(X, theta):\n",
    "    return np.dot(X,theta) # prediction= model(X, theta_final) #X.dot(theta)\n",
    "    "
   ]
  },
  {
   "cell_type": "code",
   "execution_count": 31,
   "metadata": {},
   "outputs": [],
   "source": [
    "m=model(X, theta)\n"
   ]
  },
  {
   "cell_type": "code",
   "execution_count": 32,
   "metadata": {},
   "outputs": [
    {
     "data": {
      "text/plain": [
       "[<matplotlib.lines.Line2D at 0x15cbf1305e0>]"
      ]
     },
     "execution_count": 32,
     "metadata": {},
     "output_type": "execute_result"
    },
    {
     "data": {
      "image/png": "[encoded data removed]",
      "text/plain": [
       "<Figure size 432x288 with 1 Axes>"
      ]
     },
     "metadata": {
      "needs_background": "light"
     },
     "output_type": "display_data"
    }
   ],
   "source": [
    "plt.scatter(x,y)\n",
    "plt.plot(x,model(X,theta))"
   ]
  },
  {
   "cell_type": "markdown",
   "metadata": {},
   "source": [
    "# Fonction cout"
   ]
  },
  {
   "cell_type": "code",
   "execution_count": 33,
   "metadata": {},
   "outputs": [],
   "source": [
    "def cost_function(x, y, theta):\n",
    "    m = len(y)\n",
    "    return 1/(2*m) * np.sum(( model(X,theta) - y )**2)"
   ]
  },
  {
   "cell_type": "code",
   "execution_count": 34,
   "metadata": {},
   "outputs": [
    {
     "data": {
      "text/plain": [
       "1235.5234766561189"
      ]
     },
     "execution_count": 34,
     "metadata": {},
     "output_type": "execute_result"
    }
   ],
   "source": [
    "cost_function(x,y, theta)\n"
   ]
  },
  {
   "cell_type": "markdown",
   "metadata": {},
   "source": [
    "# Gradients et Descente de Gradient"
   ]
  },
  {
   "cell_type": "code",
   "execution_count": 35,
   "metadata": {},
   "outputs": [],
   "source": [
    "def grad(X,y,theta):\n",
    "    m=len(y)\n",
    "    return 1/m * X.T.dot(model(X, theta)-y)"
   ]
  },
  {
   "cell_type": "code",
   "execution_count": 36,
   "metadata": {},
   "outputs": [],
   "source": [
    "def grad_descent(X,y, theta, learning_rate, n_iterations):\n",
    "    cost_history= np.zeros(n_iterations)\n",
    "    for i in range(0, n_iterations):\n",
    "        theta = theta - learning_rate * grad(X, y, theta)\n",
    "        cost_history[i]=cost_function(X,y,theta)\n",
    "    return theta, cost_history"
   ]
  },
  {
   "cell_type": "markdown",
   "metadata": {},
   "source": [
    "# Machine learning"
   ]
  },
  {
   "cell_type": "code",
   "execution_count": 37,
   "metadata": {},
   "outputs": [
    {
     "data": {
      "text/plain": [
       "array([1210.85391138, 1186.82688472, 1163.4190934 , 1140.60836884,\n",
       "       1118.37361276, 1096.69473662, 1075.55260472, 1054.9289807 ,\n",
       "       1034.80647722, 1015.16850873,  995.99924695,  977.2835791 ,\n",
       "        959.00706858,  941.15591796,  923.71693424,  906.67749609,\n",
       "        890.02552307,  873.74944668,  857.83818308,  842.2811074 ,\n",
       "        827.06802965,  812.18917192,  797.63514699,  783.39693818,\n",
       "        769.46588031,  755.83364186,  742.49220808,  729.4338651 ,\n",
       "        716.65118497,  704.13701154,  691.88444714,  679.88684005,\n",
       "        668.13777261,  656.63105011,  645.36069021,  634.32091297,\n",
       "        623.50613151,  612.91094309,  602.53012074,  592.35860534,\n",
       "        582.39149815,  572.62405371,  563.05167315,  553.66989788,\n",
       "        544.47440358,  535.46099454,  526.62559828,  517.96426048,\n",
       "        509.47314016,  501.14850509,  492.9867275 ,  484.98427995,\n",
       "        477.13773143,  469.44374367,  461.89906763,  454.50054016,\n",
       "        447.24508081,  440.12968887,  433.15144044,  426.30748573,\n",
       "        419.59504648,  413.01141345,  406.55394409,  400.22006027,\n",
       "        394.00724616,  387.91304618,  381.93506304,  376.07095587,\n",
       "        370.31843846,  364.67527753,  359.13929113,  353.70834707,\n",
       "        348.3803614 ,  343.15329703,  338.02516232,  332.99400977,\n",
       "        328.0579348 ,  323.21507448,  318.4636064 ,  313.80174758,\n",
       "        309.22775333,  304.73991628,  300.33656534,  296.01606479,\n",
       "        291.77681331,  287.61724314,  283.53581918,  279.53103819,\n",
       "        275.60142799,  271.7455467 ,  267.96198196,  264.24935026,\n",
       "        260.6062962 ,  257.03149187,  253.52363613,  250.08145405,\n",
       "        246.70369628,  243.38913841,  240.13658048,  236.94484636,\n",
       "        233.81278323,  230.73926107,  227.72317215,  224.76343052,\n",
       "        221.85897155,  219.00875143,  216.21174678,  213.46695416,\n",
       "        210.77338964,  208.13008842,  205.53610439,  202.99050974,\n",
       "        200.49239462,  198.04086668,  195.63505078,  193.27408862,\n",
       "        190.95713834,  188.68337426,  186.45198649,  184.26218064,\n",
       "        182.11317747,  180.00421265,  177.93453637,  175.90341313,\n",
       "        173.9101214 ,  171.95395337,  170.03421464,  168.15022401,\n",
       "        166.30131318,  164.4868265 ,  162.70612072,  160.95856474,\n",
       "        159.24353941,  157.56043726,  155.90866225,  154.28762961,\n",
       "        152.69676559,  151.13550721,  149.60330213,  148.09960836,\n",
       "        146.62389412,  145.17563763,  143.75432689,  142.35945952,\n",
       "        140.99054259,  139.64709238,  138.32863426,  137.03470251,\n",
       "        135.7648401 ,  134.5185986 ,  133.29553796,  132.09522635,\n",
       "        130.91724005,  129.76116326,  128.62658795,  127.51311372,\n",
       "        126.42034765,  125.34790419,  124.29540495,  123.26247866,\n",
       "        122.24876094,  121.25389423,  120.27752766,  119.31931689,\n",
       "        118.37892402,  117.45601745,  116.55027175,  115.66136759,\n",
       "        114.78899158,  113.93283617,  113.09259956,  112.26798557,\n",
       "        111.45870353,  110.6644682 ,  109.88499965,  109.12002318,\n",
       "        108.36926919,  107.63247312,  106.90937532,  106.19972099,\n",
       "        105.50326007,  104.81974717,  104.14894146,  103.49060659,\n",
       "        102.84451061,  102.21042591,  101.58812909,  100.97740093,\n",
       "        100.37802628,   99.789794  ,   99.21249687,   98.64593154,\n",
       "         98.08989845,   97.54420173,   97.00864917,   96.48305214,\n",
       "         95.96722552,   95.46098762,   94.96416015,   94.47656812,\n",
       "         93.99803981,   93.5284067 ,   93.06750337,   92.61516753,\n",
       "         92.17123986,   91.73556403,   91.30798662,   90.88835705,\n",
       "         90.47652755,   90.0723531 ,   89.67569137,   89.28640268,\n",
       "         88.90434995,   88.52939866,   88.16141676,   87.80027469,\n",
       "         87.44584529,   87.09800376,   86.75662761,   86.42159665,\n",
       "         86.09279291,   85.77010063,   85.45340619,   85.14259807,\n",
       "         84.83756686,   84.53820515,   84.24440754,   83.95607059,\n",
       "         83.67309279,   83.39537452,   83.12281798,   82.85532724,\n",
       "         82.5928081 ,   82.33516816,   82.08231671,   81.83416472,\n",
       "         81.59062484,   81.35161133,   81.11704005,   80.88682842,\n",
       "         80.66089539,   80.43916143,   80.22154848,   80.00797993,\n",
       "         79.7983806 ,   79.5926767 ,   79.39079583,   79.19266692,\n",
       "         78.99822022,   78.80738728,   78.62010093,   78.43629524,\n",
       "         78.25590552,   78.07886825,   77.90512113,   77.734603  ,\n",
       "         77.56725382,   77.40301471,   77.24182784,   77.08363649,\n",
       "         76.92838496,   76.77601861,   76.62648382,   76.47972795,\n",
       "         76.33569934,   76.19434731,   76.05562209,   75.91947486,\n",
       "         75.78585771,   75.6547236 ,   75.52602638,   75.39972076,\n",
       "         75.27576227,   75.1541073 ,   75.03471303,   74.91753743,\n",
       "         74.80253926,   74.68967807,   74.57891411,   74.47020842,\n",
       "         74.36352273,   74.25881949,   74.15606187,   74.0552137 ,\n",
       "         73.95623948,   73.85910439,   73.76377424,   73.67021549,\n",
       "         73.57839521,   73.48828108,   73.3998414 ,   73.31304505,\n",
       "         73.22786147,   73.1442607 ,   73.06221332,   72.98169045,\n",
       "         72.90266376,   72.82510544,   72.7489882 ,   72.67428526,\n",
       "         72.60097033,   72.52901762,   72.4584018 ,   72.38909802,\n",
       "         72.32108191,   72.25432953,   72.18881739,   72.12452245,\n",
       "         72.06142208,   71.99949408,   71.93871665,   71.87906843,\n",
       "         71.82052841,   71.76307601,   71.70669101,   71.65135358,\n",
       "         71.59704423,   71.54374388,   71.49143376,   71.44009548,\n",
       "         71.38971096,   71.34026249,   71.29173268,   71.24410443,\n",
       "         71.19736102,   71.15148598,   71.10646318,   71.06227678,\n",
       "         71.01891125,   70.97635131,   70.93458201,   70.89358865,\n",
       "         70.85335681,   70.81387234,   70.77512134,   70.7370902 ,\n",
       "         70.69976553,   70.6631342 ,   70.62718332,   70.59190027,\n",
       "         70.55727261,   70.52328818,   70.48993502,   70.4572014 ,\n",
       "         70.42507581,   70.39354695,   70.36260372,   70.33223526,\n",
       "         70.30243087,   70.27318008,   70.24447259,   70.21629832,\n",
       "         70.18864735,   70.16150996,   70.13487661,   70.10873793,\n",
       "         70.08308473,   70.05790798,   70.03319885,   70.00894862,\n",
       "         69.98514879,   69.96179098,   69.93886697,   69.91636871,\n",
       "         69.89428829,   69.87261794,   69.85135004,   69.83047711,\n",
       "         69.80999182,   69.78988697,   69.77015548,   69.75079042,\n",
       "         69.73178497,   69.71313247,   69.69482634,   69.67686016,\n",
       "         69.65922761,   69.64192249,   69.62493871,   69.60827031,\n",
       "         69.59191143,   69.57585631,   69.56009932,   69.54463491,\n",
       "         69.52945764,   69.51456219,   69.49994332,   69.48559589,\n",
       "         69.47151485,   69.45769526,   69.44413225,   69.43082108,\n",
       "         69.41775704,   69.40493556,   69.39235213,   69.38000232,\n",
       "         69.36788179,   69.35598629,   69.34431164,   69.33285373,\n",
       "         69.32160853,   69.3105721 ,   69.29974055,   69.28911009,\n",
       "         69.27867697,   69.26843752,   69.25838816,   69.24852535,\n",
       "         69.23884563,   69.22934559,   69.22002189,   69.21087127,\n",
       "         69.2018905 ,   69.19307643,   69.18442597,   69.17593607,\n",
       "         69.16760376,   69.1594261 ,   69.15140022,   69.14352331,\n",
       "         69.1357926 ,   69.12820537,   69.12075895,   69.11345074,\n",
       "         69.10627816,   69.09923869,   69.09232987,   69.08554927,\n",
       "         69.0788945 ,   69.07236323,   69.06595316,   69.05966205,\n",
       "         69.05348768,   69.04742789,   69.04148054,   69.03564356,\n",
       "         69.02991488,   69.02429251,   69.01877445,   69.01335879,\n",
       "         69.00804361,   69.00282706,   68.99770729,   68.99268251,\n",
       "         68.98775096,   68.9829109 ,   68.97816065,   68.97349852,\n",
       "         68.96892288,   68.96443213,   68.96002469,   68.95569902,\n",
       "         68.95145359,   68.94728692,   68.94319754,   68.93918401,\n",
       "         68.93524494,   68.93137893,   68.92758464,   68.92386072,\n",
       "         68.92020587,   68.91661882,   68.91309829,   68.90964306,\n",
       "         68.90625192,   68.90292367,   68.89965714,   68.8964512 ,\n",
       "         68.89330471,   68.89021657,   68.8871857 ,   68.88421104,\n",
       "         68.88129154,   68.87842617,   68.87561394,   68.87285386,\n",
       "         68.87014495,   68.86748627,   68.86487689,   68.86231589,\n",
       "         68.85980237,   68.85733546,   68.85491428,   68.85253798,\n",
       "         68.85020575,   68.84791674,   68.84567018,   68.84346526,\n",
       "         68.84130121,   68.83917728,   68.83709272,   68.83504679,\n",
       "         68.8330388 ,   68.83106802,   68.82913376,   68.82723536,\n",
       "         68.82537214,   68.82354346,   68.82174866,   68.81998713,\n",
       "         68.81825824,   68.81656139,   68.81489599,   68.81326145,\n",
       "         68.81165719,   68.81008266,   68.80853731,   68.80702059,\n",
       "         68.80553197,   68.80407093,   68.80263697,   68.80122956,\n",
       "         68.79984823,   68.7984925 ,   68.79716187,   68.7958559 ,\n",
       "         68.79457412,   68.79331608,   68.79208134,   68.79086948,\n",
       "         68.78968006,   68.78851267,   68.7873669 ,   68.78624235,\n",
       "         68.78513863,   68.78405535,   68.78299212,   68.78194859,\n",
       "         68.78092438,   68.77991914,   68.77893251,   68.77796414,\n",
       "         68.77701371,   68.77608087,   68.77516531,   68.77426669,\n",
       "         68.77338471,   68.77251906,   68.77166943,   68.77083553,\n",
       "         68.77001706,   68.76921375,   68.7684253 ,   68.76765144,\n",
       "         68.76689191,   68.76614644,   68.76541476,   68.76469662,\n",
       "         68.76399177,   68.76329996,   68.76262095,   68.76195451,\n",
       "         68.76130039,   68.76065838,   68.76002825,   68.75940977,\n",
       "         68.75880274,   68.75820694,   68.75762215,   68.75704819,\n",
       "         68.75648484,   68.7559319 ,   68.7553892 ,   68.75485653,\n",
       "         68.75433372,   68.75382057,   68.75331691,   68.75282256,\n",
       "         68.75233736,   68.75186112,   68.7513937 ,   68.75093491,\n",
       "         68.7504846 ,   68.75004262,   68.74960881,   68.74918302,\n",
       "         68.7487651 ,   68.7483549 ,   68.74795229,   68.74755711,\n",
       "         68.74716924,   68.74678854,   68.74641487,   68.74604811,\n",
       "         68.74568812,   68.74533478,   68.74498798,   68.74464758,\n",
       "         68.74431346,   68.74398552,   68.74366364,   68.7433477 ,\n",
       "         68.7430376 ,   68.74273323,   68.74243447,   68.74214124,\n",
       "         68.74185342,   68.74157091,   68.74129362,   68.74102145,\n",
       "         68.7407543 ,   68.74049209,   68.74023471,   68.73998209,\n",
       "         68.73973413,   68.73949075,   68.73925186,   68.73901737,\n",
       "         68.73878722,   68.73856131,   68.73833957,   68.73812192,\n",
       "         68.73790829,   68.7376986 ,   68.73749278,   68.73729075,\n",
       "         68.73709245,   68.73689781,   68.73670675,   68.73651922,\n",
       "         68.73633515,   68.73615448,   68.73597713,   68.73580305,\n",
       "         68.73563219,   68.73546447,   68.73529985,   68.73513826,\n",
       "         68.73497964,   68.73482396,   68.73467114,   68.73452113,\n",
       "         68.73437389,   68.73422937,   68.7340875 ,   68.73394825,\n",
       "         68.73381157,   68.7336774 ,   68.7335457 ,   68.73341643,\n",
       "         68.73328954,   68.73316499,   68.73304273,   68.73292272,\n",
       "         68.73280492,   68.73268929,   68.73257579,   68.73246438,\n",
       "         68.73235501,   68.73224766,   68.73214229,   68.73203885,\n",
       "         68.73193732,   68.73183766,   68.73173983,   68.7316438 ,\n",
       "         68.73154953,   68.731457  ,   68.73136617,   68.73127701,\n",
       "         68.73118949,   68.73110358,   68.73101925,   68.73093647,\n",
       "         68.73085521,   68.73077545,   68.73069715,   68.73062029,\n",
       "         68.73054484,   68.73047078,   68.73039807,   68.73032671,\n",
       "         68.73025665,   68.73018788,   68.73012038,   68.73005411,\n",
       "         68.72998906,   68.72992521,   68.72986253,   68.72980099,\n",
       "         68.72974059,   68.7296813 ,   68.72962309,   68.72956595,\n",
       "         68.72950986,   68.7294548 ,   68.72940075,   68.72934769,\n",
       "         68.72929561,   68.72924448,   68.72919428,   68.72914501,\n",
       "         68.72909664,   68.72904916,   68.72900254,   68.72895678,\n",
       "         68.72891186,   68.72886777,   68.72882448,   68.72878198,\n",
       "         68.72874026,   68.72869931,   68.72865911,   68.72861964,\n",
       "         68.72858089,   68.72854286,   68.72850552,   68.72846886,\n",
       "         68.72843288,   68.72839755,   68.72836287,   68.72832882,\n",
       "         68.7282954 ,   68.72826259,   68.72823037,   68.72819875,\n",
       "         68.7281677 ,   68.72813723,   68.72810731,   68.72807793,\n",
       "         68.72804909,   68.72802078,   68.72799299,   68.72796571,\n",
       "         68.72793892,   68.72791262,   68.7278868 ,   68.72786146,\n",
       "         68.72783657,   68.72781214,   68.72778816,   68.72776461,\n",
       "         68.72774149,   68.7277188 ,   68.72769652,   68.72767464,\n",
       "         68.72765317,   68.72763208,   68.72761138,   68.72759106,\n",
       "         68.72757111,   68.72755152,   68.72753228,   68.7275134 ,\n",
       "         68.72749486,   68.72747666,   68.72745879,   68.72744125,\n",
       "         68.72742402,   68.72740711,   68.72739051,   68.72737421,\n",
       "         68.7273582 ,   68.72734249,   68.72732706,   68.72731191,\n",
       "         68.72729704,   68.72728244,   68.7272681 ,   68.72725402,\n",
       "         68.7272402 ,   68.72722663,   68.72721331,   68.72720023,\n",
       "         68.72718738,   68.72717477,   68.72716239,   68.72715023,\n",
       "         68.7271383 ,   68.72712658,   68.72711507,   68.72710377,\n",
       "         68.72709267,   68.72708178,   68.72707108,   68.72706058,\n",
       "         68.72705027,   68.72704014,   68.7270302 ,   68.72702044,\n",
       "         68.72701085,   68.72700144,   68.7269922 ,   68.72698312,\n",
       "         68.72697421,   68.72696546,   68.72695687,   68.72694844,\n",
       "         68.72694015,   68.72693202,   68.72692403,   68.72691619,\n",
       "         68.72690849,   68.72690093,   68.7268935 ,   68.72688621,\n",
       "         68.72687905,   68.72687202,   68.72686511,   68.72685833,\n",
       "         68.72685167,   68.72684514,   68.72683872,   68.72683241,\n",
       "         68.72682622,   68.72682014,   68.72681417,   68.72680831,\n",
       "         68.72680255,   68.7267969 ,   68.72679135,   68.72678589,\n",
       "         68.72678054,   68.72677528,   68.72677012,   68.72676505,\n",
       "         68.72676007,   68.72675518,   68.72675037,   68.72674566,\n",
       "         68.72674102,   68.72673648,   68.72673201,   68.72672762,\n",
       "         68.72672331,   68.72671908,   68.72671492,   68.72671084,\n",
       "         68.72670683,   68.7267029 ,   68.72669903,   68.72669523,\n",
       "         68.72669151,   68.72668784,   68.72668425,   68.72668071,\n",
       "         68.72667724,   68.72667384,   68.72667049,   68.7266672 ,\n",
       "         68.72666397,   68.7266608 ,   68.72665769,   68.72665463,\n",
       "         68.72665162,   68.72664867,   68.72664577,   68.72664293,\n",
       "         68.72664013,   68.72663738,   68.72663469,   68.72663204,\n",
       "         68.72662943,   68.72662688,   68.72662437,   68.7266219 ,\n",
       "         68.72661948,   68.7266171 ,   68.72661476,   68.72661247,\n",
       "         68.72661021,   68.72660799,   68.72660582,   68.72660368,\n",
       "         68.72660158,   68.72659952,   68.72659749,   68.7265955 ,\n",
       "         68.72659355,   68.72659163,   68.72658974,   68.72658789,\n",
       "         68.72658607,   68.72658428,   68.72658252,   68.7265808 ,\n",
       "         68.7265791 ,   68.72657743,   68.7265758 ,   68.72657419,\n",
       "         68.72657261,   68.72657106,   68.72656954,   68.72656804,\n",
       "         68.72656657,   68.72656512,   68.7265637 ,   68.72656231,\n",
       "         68.72656094,   68.72655959,   68.72655827,   68.72655697,\n",
       "         68.72655569,   68.72655444,   68.72655321,   68.72655199,\n",
       "         68.7265508 ,   68.72654964,   68.72654849,   68.72654736,\n",
       "         68.72654625,   68.72654516,   68.72654409,   68.72654304,\n",
       "         68.72654201,   68.72654099,   68.72653999,   68.72653901,\n",
       "         68.72653805,   68.7265371 ,   68.72653617,   68.72653526,\n",
       "         68.72653436,   68.72653348,   68.72653261,   68.72653176,\n",
       "         68.72653092,   68.7265301 ,   68.72652929,   68.7265285 ,\n",
       "         68.72652772,   68.72652695,   68.72652619,   68.72652545,\n",
       "         68.72652473,   68.72652401,   68.72652331,   68.72652262,\n",
       "         68.72652194,   68.72652127,   68.72652061,   68.72651997,\n",
       "         68.72651933,   68.72651871,   68.7265181 ,   68.7265175 ,\n",
       "         68.72651691,   68.72651633,   68.72651575,   68.72651519,\n",
       "         68.72651464,   68.7265141 ,   68.72651357,   68.72651304,\n",
       "         68.72651253,   68.72651202,   68.72651152,   68.72651104,\n",
       "         68.72651055,   68.72651008,   68.72650962,   68.72650916,\n",
       "         68.72650871,   68.72650827,   68.72650784,   68.72650741,\n",
       "         68.72650699,   68.72650658,   68.72650618,   68.72650578,\n",
       "         68.72650539,   68.726505  ,   68.72650463,   68.72650425,\n",
       "         68.72650389,   68.72650353,   68.72650318,   68.72650283,\n",
       "         68.72650249,   68.72650215,   68.72650182,   68.7265015 ,\n",
       "         68.72650118,   68.72650086,   68.72650056,   68.72650025,\n",
       "         68.72649996,   68.72649966,   68.72649937,   68.72649909,\n",
       "         68.72649881,   68.72649854,   68.72649827,   68.726498  ,\n",
       "         68.72649774,   68.72649749,   68.72649724,   68.72649699,\n",
       "         68.72649674,   68.72649651,   68.72649627,   68.72649604,\n",
       "         68.72649581,   68.72649559,   68.72649537,   68.72649515,\n",
       "         68.72649494,   68.72649473,   68.72649452,   68.72649432])"
      ]
     },
     "execution_count": 37,
     "metadata": {},
     "output_type": "execute_result"
    }
   ],
   "source": [
    "\n",
    "theta_final, cost_history=grad_descent(X, y, theta, learning_rate=0.01, n_iterations=1000)\n",
    "theta_final, \n",
    "cost_history"
   ]
  },
  {
   "cell_type": "code",
   "execution_count": 42,
   "metadata": {},
   "outputs": [
    {
     "data": {
      "text/plain": [
       "<matplotlib.collections.PathCollection at 0x15cbf288190>"
      ]
     },
     "execution_count": 42,
     "metadata": {},
     "output_type": "execute_result"
    },
    {
     "data": {
      "image/png": "[encoded data removed]",
      "text/plain": [
       "<Figure size 432x288 with 1 Axes>"
      ]
     },
     "metadata": {
      "needs_background": "light"
     },
     "output_type": "display_data"
    }
   ],
   "source": [
    "prediction= model(X, theta_final)\n",
    "plt.scatter(x,y)\n",
    "plt.scatter(x,prediction, c='r')"
   ]
  },
  {
   "cell_type": "markdown",
   "metadata": {},
   "source": [
    "# Courbe d'apprentissage"
   ]
  },
  {
   "cell_type": "code",
   "execution_count": 39,
   "metadata": {},
   "outputs": [
    {
     "data": {
      "text/plain": [
       "[<matplotlib.lines.Line2D at 0x15cbf215940>]"
      ]
     },
     "execution_count": 39,
     "metadata": {},
     "output_type": "execute_result"
    },
    {
     "data": {
      "image/png": "[encoded data removed]",
      "text/plain": [
       "<Figure size 432x288 with 1 Axes>"
      ]
     },
     "metadata": {
      "needs_background": "light"
     },
     "output_type": "display_data"
    }
   ],
   "source": [
    "plt.plot(range(1000),cost_history)"
   ]
  },
  {
   "cell_type": "code",
   "execution_count": 40,
   "metadata": {},
   "outputs": [],
   "source": [
    "# Méthode des moindres carrés \n",
    "def coef_determination(y, pred):\n",
    "    u= ((y-pred)**2).sum()\n",
    "    v= ((y-y.mean())**2).sum()\n",
    "    return 1-u/v\n",
    "    "
   ]
  },
  {
   "cell_type": "code",
   "execution_count": 41,
   "metadata": {},
   "outputs": [
    {
     "data": {
      "text/plain": [
       "0.9468889085297653"
      ]
     },
     "execution_count": 41,
     "metadata": {},
     "output_type": "execute_result"
    }
   ],
   "source": [
    "coef_determination(y,prediction)"
   ]
  }
 ],
 "metadata": {
  "kernelspec": {
   "display_name": "Python 3.9.7 ('base')",
   "language": "python",
   "name": "python3"
  },
  "language_info": {
   "codemirror_mode": {
    "name": "ipython",
    "version": 3
   },
   "file_extension": ".py",
   "mimetype": "text/x-python",
   "name": "python",
   "nbconvert_exporter": "python",
   "pygments_lexer": "ipython3",
   "version": "3.9.7"
  },
  "orig_nbformat": 4,
  "vscode": {
   "interpreter": {
    "hash": "87b8fb8d16cdf99b6034b943f2ca785673a7170f446a0e2dcdc86a306e0140dc"
   }
  }
 },
 "nbformat": 4,
 "nbformat_minor": 2
}
