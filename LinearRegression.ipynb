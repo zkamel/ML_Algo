{
 "cells": [
  {
   "cell_type": "code",
   "execution_count": 188,
   "metadata": {},
   "outputs": [],
   "source": [
    "import numpy as np\n",
    "from sklearn.datasets import make_regression\n",
    "import matplotlib.pyplot as plt"
   ]
  },
  {
   "cell_type": "markdown",
   "metadata": {},
   "source": [
    "# Dataset"
   ]
  },
  {
   "cell_type": "code",
   "execution_count": 189,
   "metadata": {},
   "outputs": [
    {
     "data": {
      "text/plain": [
       "<matplotlib.collections.PathCollection at 0x25bca8c4ac0>"
      ]
     },
     "execution_count": 189,
     "metadata": {},
     "output_type": "execute_result"
    },
    {
     "data": {
      "image/png": "[encoded data removed]",
      "text/plain": [
       "<Figure size 432x288 with 1 Axes>"
      ]
     },
     "metadata": {
      "needs_background": "light"
     },
     "output_type": "display_data"
    }
   ],
   "source": [
    "x,y =make_regression(n_samples = 100, n_features=1, noise=10)\n",
    "plt.scatter(x,y)"
   ]
  },
  {
   "cell_type": "code",
   "execution_count": 190,
   "metadata": {},
   "outputs": [
    {
     "name": "stdout",
     "output_type": "stream",
     "text": [
      "(100, 1)\n",
      "(100, 1)\n"
     ]
    }
   ],
   "source": [
    "print(x.shape)\n",
    "y=y.reshape(y.shape[0],1   )\n",
    "print(y.shape)"
   ]
  },
  {
   "cell_type": "code",
   "execution_count": 191,
   "metadata": {},
   "outputs": [
    {
     "data": {
      "text/plain": [
       "(100, 2)"
      ]
     },
     "execution_count": 191,
     "metadata": {},
     "output_type": "execute_result"
    }
   ],
   "source": [
    "## Matrice X\n",
    "X = np.hstack((x, np.ones(x.shape)))\n",
    "X.shape"
   ]
  },
  {
   "cell_type": "code",
   "execution_count": 192,
   "metadata": {},
   "outputs": [
    {
     "data": {
      "text/plain": [
       "array([[-1.54049262],\n",
       "       [ 0.39262767]])"
      ]
     },
     "execution_count": 192,
     "metadata": {},
     "output_type": "execute_result"
    }
   ],
   "source": [
    "theta= np.random.randn(2,1)\n",
    "theta"
   ]
  },
  {
   "cell_type": "markdown",
   "metadata": {},
   "source": [
    "# Modele"
   ]
  },
  {
   "cell_type": "code",
   "execution_count": 193,
   "metadata": {},
   "outputs": [],
   "source": [
    "def model(X, theta):\n",
    "    return np.dot(X,theta) # prediction= model(X, theta_final) #X.dot(theta)\n",
    "    "
   ]
  },
  {
   "cell_type": "code",
   "execution_count": 194,
   "metadata": {},
   "outputs": [],
   "source": [
    "m=model(X, theta)\n"
   ]
  },
  {
   "cell_type": "code",
   "execution_count": 195,
   "metadata": {},
   "outputs": [
    {
     "data": {
      "text/plain": [
       "[<matplotlib.lines.Line2D at 0x25bca932f10>]"
      ]
     },
     "execution_count": 195,
     "metadata": {},
     "output_type": "execute_result"
    },
    {
     "data": {
      "image/png": "[encoded data removed]",
      "text/plain": [
       "<Figure size 432x288 with 1 Axes>"
      ]
     },
     "metadata": {
      "needs_background": "light"
     },
     "output_type": "display_data"
    }
   ],
   "source": [
    "plt.scatter(x,y)\n",
    "plt.plot(x,model(X,theta))"
   ]
  },
  {
   "cell_type": "markdown",
   "metadata": {},
   "source": [
    "# Fonction cout"
   ]
  },
  {
   "cell_type": "code",
   "execution_count": 196,
   "metadata": {},
   "outputs": [],
   "source": [
    "def cost_function(x, y, theta):\n",
    "    m = len(y)\n",
    "    return 1/(2*m) * np.sum(( model(X,theta) - y )**2)"
   ]
  },
  {
   "cell_type": "code",
   "execution_count": 197,
   "metadata": {},
   "outputs": [
    {
     "data": {
      "text/plain": [
       "1956.9638062723661"
      ]
     },
     "execution_count": 197,
     "metadata": {},
     "output_type": "execute_result"
    }
   ],
   "source": [
    "cost_function(x,y, theta)\n"
   ]
  },
  {
   "cell_type": "markdown",
   "metadata": {},
   "source": [
    "# Gradients et Descente de Gradient"
   ]
  },
  {
   "cell_type": "code",
   "execution_count": 198,
   "metadata": {},
   "outputs": [],
   "source": [
    "def grad(X,y,theta):\n",
    "    m=len(y)\n",
    "    return 1/m * X.T.dot(model(X, theta)-y)"
   ]
  },
  {
   "cell_type": "code",
   "execution_count": 199,
   "metadata": {},
   "outputs": [],
   "source": [
    "def grad_descent(X,y, theta, learning_rate, n_iterations):\n",
    "    cost_history= np.zeros(n_iterations)\n",
    "    for i in range(0, n_iterations):\n",
    "        theta = theta - learning_rate * grad(X, y, theta)\n",
    "        cost_history[i]=cost_function(X,y,theta)\n",
    "    return theta, cost_history"
   ]
  },
  {
   "cell_type": "markdown",
   "metadata": {},
   "source": [
    "# Machine learning"
   ]
  },
  {
   "cell_type": "code",
   "execution_count": 200,
   "metadata": {},
   "outputs": [
    {
     "data": {
      "text/plain": [
       "array([1926.50645017, 1896.54500791, 1867.07131969, 1838.07736161,\n",
       "       1809.55524342, 1781.49720622, 1753.89562026, 1726.74298277,\n",
       "       1700.03191582, 1673.75516417, 1647.90559326, 1622.47618714,\n",
       "       1597.46004647, 1572.85038659, 1548.64053553, 1524.82393216,\n",
       "       1501.3941243 , 1478.34476691, 1455.66962025, 1433.36254814,\n",
       "       1411.41751621, 1389.82859016, 1368.58993413, 1347.695809  ,\n",
       "       1327.1405708 , 1306.91866907, 1287.02464532, 1267.4531315 ,\n",
       "       1248.19884843, 1229.25660435, 1210.62129345, 1192.28789441,\n",
       "       1174.251469  , 1156.50716068, 1139.05019323, 1121.87586941,\n",
       "       1104.97956963, 1088.35675065, 1072.00294431, 1055.91375625,\n",
       "       1040.08486471, 1024.5120193 , 1009.1910398 ,  994.11781497,\n",
       "        979.28830144,  964.69852254,  950.34456722,  936.2225889 ,\n",
       "        922.32880445,  908.65949309,  895.21099537,  881.97971215,\n",
       "        868.96210356,  856.15468807,  843.55404145,  831.15679587,\n",
       "        818.95963893,  806.95931275,  795.15261304,  783.53638824,\n",
       "        772.10753861,  760.86301539,  749.79981994,  738.91500292,\n",
       "        728.20566344,  717.66894829,  707.30205111,  697.10221166,\n",
       "        687.066715  ,  677.19289077,  667.47811244,  657.91979659,\n",
       "        648.51540218,  639.26242985,  630.15842125,  621.20095831,\n",
       "        612.38766263,  603.71619478,  595.18425368,  586.78957595,\n",
       "        578.52993527,  570.40314182,  562.4070416 ,  554.5395159 ,\n",
       "        546.79848068,  539.18188602,  531.68771552,  524.31398579,\n",
       "        517.05874587,  509.92007671,  502.89609062,  495.98493081,\n",
       "        489.18477078,  482.49381393,  475.91029298,  469.43246953,\n",
       "        463.05863357,  456.78710302,  450.61622325,  444.54436665,\n",
       "        438.56993216,  432.69134485,  426.90705549,  421.21554011,\n",
       "        415.61529961,  410.10485931,  404.68276858,  399.34760044,\n",
       "        394.09795116,  388.93243989,  383.84970826,  378.84842004,\n",
       "        373.92726075,  369.08493732,  364.32017772,  359.63173063,\n",
       "        355.01836511,  350.47887022,  346.01205474,  341.61674681,\n",
       "        337.29179364,  333.03606118,  328.84843381,  324.72781406,\n",
       "        320.67312228,  316.68329637,  312.75729148,  308.89407973,\n",
       "        305.09264995,  301.35200736,  297.67117336,  294.04918522,\n",
       "        290.48509584,  286.97797348,  283.52690152,  280.13097822,\n",
       "        276.78931646,  273.50104349,  270.26530074,  267.08124353,\n",
       "        263.9480409 ,  260.86487533,  257.83094256,  254.84545135,\n",
       "        251.9076233 ,  249.0166926 ,  246.17190582,  243.37252178,\n",
       "        240.61781125,  237.90705683,  235.23955273,  232.61460456,\n",
       "        230.03152918,  227.4896545 ,  224.98831929,  222.52687304,\n",
       "        220.10467571,  217.72109766,  215.37551939,  213.06733142,\n",
       "        210.79593413,  208.56073757,  206.36116134,  204.1966344 ,\n",
       "        202.06659493,  199.9704902 ,  197.90777638,  195.87791844,\n",
       "        193.88038997,  191.91467305,  189.98025814,  188.0766439 ,\n",
       "        186.20333709,  184.35985241,  182.54571239,  180.76044728,\n",
       "        179.00359487,  177.27470043,  175.57331653,  173.89900298,\n",
       "        172.25132666,  170.62986143,  169.03418803,  167.46389394,\n",
       "        165.91857328,  164.3978267 ,  162.90126131,  161.42849051,\n",
       "        159.97913395,  158.55281736,  157.14917254,  155.76783719,\n",
       "        154.40845483,  153.07067473,  151.75415179,  150.45854646,\n",
       "        149.18352467,  147.92875768,  146.69392207,  145.47869961,\n",
       "        144.28277715,  143.10584663,  141.94760489,  140.80775367,\n",
       "        139.68599947,  138.58205354,  137.49563174,  136.4264545 ,\n",
       "        135.37424673,  134.33873778,  133.31966131,  132.31675528,\n",
       "        131.32976184,  130.35842729,  129.40250198,  128.46174028,\n",
       "        127.53590049,  126.6247448 ,  125.7280392 ,  124.84555342,\n",
       "        123.97706092,  123.12233874,  122.28116754,  121.45333147,\n",
       "        120.63861813,  119.83681854,  119.04772707,  118.27114137,\n",
       "        117.50686233,  116.75469405,  116.01444373,  115.28592169,\n",
       "        114.56894127,  113.86331881,  113.16887356,  112.4854277 ,\n",
       "        111.81280623,  111.15083695,  110.49935044,  109.85817995,\n",
       "        109.22716143,  108.60613343,  107.99493711,  107.39341613,\n",
       "        106.80141669,  106.21878742,  105.64537937,  105.081046  ,\n",
       "        104.52564307,  103.97902867,  103.44106316,  102.91160911,\n",
       "        102.39053131,  101.87769668,  101.37297429,  100.8762353 ,\n",
       "        100.3873529 ,   99.90620234,   99.43266083,   98.96660757,\n",
       "         98.50792366,   98.05649211,   97.61219779,   97.17492743,\n",
       "         96.74456954,   96.32101441,   95.90415409,   95.49388236,\n",
       "         95.09009467,   94.69268815,   94.30156157,   93.91661532,\n",
       "         93.53775137,   93.16487324,   92.79788602,   92.43669628,\n",
       "         92.08121209,   91.73134298,   91.38699995,   91.04809538,\n",
       "         90.71454306,   90.38625816,   90.06315718,   89.74515798,\n",
       "         89.4321797 ,   89.12414279,   88.82096894,   88.52258112,\n",
       "         88.22890349,   87.93986144,   87.65538154,   87.37539154,\n",
       "         87.09982032,   86.8285979 ,   86.56165541,   86.29892509,\n",
       "         86.04034024,   85.78583523,   85.53534547,   85.28880739,\n",
       "         85.04615846,   84.8073371 ,   84.57228274,   84.34093576,\n",
       "         84.1132375 ,   83.88913022,   83.6685571 ,   83.45146222,\n",
       "         83.23779056,   83.02748797,   82.82050114,   82.61677764,\n",
       "         82.41626585,   82.21891497,   82.02467502,   81.83349681,\n",
       "         81.64533191,   81.46013269,   81.27785226,   81.09844448,\n",
       "         80.92186393,   80.74806592,   80.57700647,   80.4086423 ,\n",
       "         80.24293081,   80.07983008,   79.91929885,   79.76129653,\n",
       "         79.60578315,   79.45271939,   79.30206655,   79.15378655,\n",
       "         79.00784189,   78.8641957 ,   78.72281167,   78.58365407,\n",
       "         78.44668774,   78.31187808,   78.17919103,   78.04859307,\n",
       "         77.92005122,   77.79353301,   77.66900651,   77.54644026,\n",
       "         77.42580333,   77.30706525,   77.19019607,   77.07516628,\n",
       "         76.96194685,   76.85050922,   76.74082526,   76.63286731,\n",
       "         76.52660813,   76.42202092,   76.3190793 ,   76.21775732,\n",
       "         76.11802941,   76.01987044,   75.92325566,   75.82816071,\n",
       "         75.73456162,   75.64243481,   75.55175705,   75.46250549,\n",
       "         75.37465765,   75.28819139,   75.20308493,   75.11931683,\n",
       "         75.03686599,   74.95571165,   74.87583336,   74.79721103,\n",
       "         74.71982483,   74.64365531,   74.56868327,   74.49488986,\n",
       "         74.42225649,   74.35076488,   74.28039705,   74.21113528,\n",
       "         74.14296216,   74.07586053,   74.00981351,   73.94480448,\n",
       "         73.88081709,   73.81783526,   73.75584314,   73.69482515,\n",
       "         73.63476594,   73.57565041,   73.51746371,   73.4601912 ,\n",
       "         73.40381849,   73.34833141,   73.29371602,   73.23995859,\n",
       "         73.18704562,   73.13496381,   73.08370007,   73.03324153,\n",
       "         72.98357552,   72.93468956,   72.88657136,   72.83920886,\n",
       "         72.79259015,   72.74670353,   72.70153748,   72.65708066,\n",
       "         72.6133219 ,   72.57025024,   72.52785484,   72.48612509,\n",
       "         72.44505049,   72.40462075,   72.36482572,   72.32565541,\n",
       "         72.28710001,   72.24914983,   72.21179536,   72.17502723,\n",
       "         72.13883621,   72.10321323,   72.06814936,   72.03363581,\n",
       "         71.99966391,   71.96622516,   71.93331117,   71.90091369,\n",
       "         71.86902459,   71.83763589,   71.80673972,   71.77632834,\n",
       "         71.74639412,   71.71692956,   71.68792729,   71.65938003,\n",
       "         71.63128064,   71.60362206,   71.57639739,   71.54959979,\n",
       "         71.52322255,   71.49725908,   71.47170286,   71.4465475 ,\n",
       "         71.4217867 ,   71.39741426,   71.37342407,   71.34981014,\n",
       "         71.32656655,   71.30368748,   71.2811672 ,   71.25900009,\n",
       "         71.23718058,   71.21570323,   71.19456265,   71.17375357,\n",
       "         71.15327076,   71.13310911,   71.11326357,   71.09372918,\n",
       "         71.07450105,   71.05557438,   71.03694442,   71.01860652,\n",
       "         71.00055609,   70.98278862,   70.96529967,   70.94808487,\n",
       "         70.9311399 ,   70.91446054,   70.8980426 ,   70.881882  ,\n",
       "         70.86597469,   70.85031669,   70.8349041 ,   70.81973305,\n",
       "         70.80479975,   70.79010049,   70.77563157,   70.76138939,\n",
       "         70.74737039,   70.73357107,   70.71998797,   70.70661771,\n",
       "         70.69345694,   70.68050239,   70.6677508 ,   70.655199  ,\n",
       "         70.64284386,   70.63068228,   70.61871123,   70.60692773,\n",
       "         70.59532882,   70.58391162,   70.57267327,   70.56161096,\n",
       "         70.55072194,   70.54000349,   70.52945293,   70.51906763,\n",
       "         70.50884499,   70.49878247,   70.48887755,   70.47912777,\n",
       "         70.46953068,   70.4600839 ,   70.45078506,   70.44163185,\n",
       "         70.43262198,   70.42375321,   70.41502332,   70.40643014,\n",
       "         70.39797152,   70.38964535,   70.38144956,   70.3733821 ,\n",
       "         70.36544095,   70.35762415,   70.34992973,   70.34235579,\n",
       "         70.33490043,   70.32756179,   70.32033804,   70.31322739,\n",
       "         70.30622806,   70.2993383 ,   70.2925564 ,   70.28588067,\n",
       "         70.27930944,   70.27284108,   70.26647397,   70.26020652,\n",
       "         70.25403718,   70.24796441,   70.24198669,   70.23610253,\n",
       "         70.23031048,   70.22460907,   70.2189969 ,   70.21347257,\n",
       "         70.2080347 ,   70.20268193,   70.19741293,   70.19222639,\n",
       "         70.18712102,   70.18209554,   70.17714871,   70.17227929,\n",
       "         70.16748607,   70.16276786,   70.15812347,   70.15355176,\n",
       "         70.14905158,   70.14462182,   70.14026137,   70.13596915,\n",
       "         70.13174409,   70.12758513,   70.12349124,   70.1194614 ,\n",
       "         70.11549461,   70.11158988,   70.10774624,   70.10396273,\n",
       "         70.10023841,   70.09657236,   70.09296365,   70.0894114 ,\n",
       "         70.08591472,   70.08247274,   70.0790846 ,   70.07574946,\n",
       "         70.07246648,   70.06923486,   70.06605379,   70.06292248,\n",
       "         70.05984014,   70.05680602,   70.05381935,   70.05087939,\n",
       "         70.04798542,   70.04513671,   70.04233255,   70.03957225,\n",
       "         70.03685512,   70.03418048,   70.03154767,   70.02895604,\n",
       "         70.02640493,   70.02389372,   70.02142179,   70.0189885 ,\n",
       "         70.01659327,   70.01423549,   70.01191458,   70.00962997,\n",
       "         70.00738108,   70.00516735,   70.00298824,   70.0008432 ,\n",
       "         69.9987317 ,   69.99665322,   69.99460723,   69.99259323,\n",
       "         69.99061073,   69.98865922,   69.98673822,   69.98484725,\n",
       "         69.98298585,   69.98115355,   69.97934989,   69.97757444,\n",
       "         69.97582674,   69.97410636,   69.97241287,   69.97074586,\n",
       "         69.96910492,   69.96748962,   69.96589957,   69.96433438,\n",
       "         69.96279366,   69.96127702,   69.95978409,   69.95831449,\n",
       "         69.95686787,   69.95544385,   69.9540421 ,   69.95266226,\n",
       "         69.95130398,   69.94996693,   69.94865079,   69.94735521,\n",
       "         69.94607988,   69.94482449,   69.94358871,   69.94237226,\n",
       "         69.94117481,   69.93999607,   69.93883576,   69.93769359,\n",
       "         69.93656926,   69.9354625 ,   69.93437304,   69.93330061,\n",
       "         69.93224494,   69.93120576,   69.93018282,   69.92917587,\n",
       "         69.92818465,   69.92720892,   69.92624844,   69.92530297,\n",
       "         69.92437228,   69.92345612,   69.92255428,   69.92166654,\n",
       "         69.92079266,   69.91993244,   69.91908566,   69.91825211,\n",
       "         69.91743159,   69.91662388,   69.9158288 ,   69.91504614,\n",
       "         69.91427571,   69.91351731,   69.91277076,   69.91203588,\n",
       "         69.91131248,   69.91060038,   69.90989941,   69.90920939,\n",
       "         69.90853014,   69.90786151,   69.90720333,   69.90655543,\n",
       "         69.90591765,   69.90528983,   69.90467182,   69.90406347,\n",
       "         69.90346462,   69.90287512,   69.90229484,   69.90172361,\n",
       "         69.90116131,   69.9006078 ,   69.90006293,   69.89952657,\n",
       "         69.8989986 ,   69.89847886,   69.89796725,   69.89746363,\n",
       "         69.89696787,   69.89647986,   69.89599947,   69.89552659,\n",
       "         69.89506109,   69.89460286,   69.89415179,   69.89370777,\n",
       "         69.89327068,   69.89284041,   69.89241687,   69.89199994,\n",
       "         69.89158953,   69.89118552,   69.89078782,   69.89039634,\n",
       "         69.89001097,   69.88963162,   69.88925819,   69.88889059,\n",
       "         69.88852874,   69.88817254,   69.88782189,   69.88747673,\n",
       "         69.88713696,   69.88680249,   69.88647324,   69.88614914,\n",
       "         69.8858301 ,   69.88551604,   69.88520689,   69.88490256,\n",
       "         69.88460299,   69.88430809,   69.8840178 ,   69.88373204,\n",
       "         69.88345075,   69.88317384,   69.88290126,   69.88263294,\n",
       "         69.88236881,   69.8821088 ,   69.88185285,   69.8816009 ,\n",
       "         69.88135288,   69.88110873,   69.8808684 ,   69.88063182,\n",
       "         69.88039894,   69.88016969,   69.87994402,   69.87972187,\n",
       "         69.87950319,   69.87928793,   69.87907602,   69.87886743,\n",
       "         69.87866209,   69.87845996,   69.87826098,   69.87806512,\n",
       "         69.87787231,   69.8776825 ,   69.87749567,   69.87731175,\n",
       "         69.8771307 ,   69.87695248,   69.87677704,   69.87660434,\n",
       "         69.87643433,   69.87626698,   69.87610224,   69.87594008,\n",
       "         69.87578044,   69.8756233 ,   69.87546861,   69.87531634,\n",
       "         69.87516644,   69.87501889,   69.87487364,   69.87473065,\n",
       "         69.8745899 ,   69.87445134,   69.87431495,   69.87418068,\n",
       "         69.87404852,   69.87391841,   69.87379034,   69.87366426,\n",
       "         69.87354016,   69.87341799,   69.87329773,   69.87317934,\n",
       "         69.87306281,   69.87294809,   69.87283516,   69.872724  ,\n",
       "         69.87261457,   69.87250685,   69.87240081,   69.87229643,\n",
       "         69.87219367,   69.87209252,   69.87199295,   69.87189493,\n",
       "         69.87179844,   69.87170346,   69.87160996,   69.87151792,\n",
       "         69.87142732,   69.87133813,   69.87125033,   69.87116391,\n",
       "         69.87107883,   69.87099508,   69.87091264,   69.87083148,\n",
       "         69.87075159,   69.87067295,   69.87059554,   69.87051933,\n",
       "         69.87044431,   69.87037047,   69.87029777,   69.87022621,\n",
       "         69.87015577,   69.87008643,   69.87001817,   69.86995097,\n",
       "         69.86988483,   69.86981971,   69.86975561,   69.86969252,\n",
       "         69.8696304 ,   69.86956926,   69.86950907,   69.86944982,\n",
       "         69.8693915 ,   69.86933408,   69.86927756,   69.86922192,\n",
       "         69.86916716,   69.86911324,   69.86906017,   69.86900793,\n",
       "         69.8689565 ,   69.86890587,   69.86885603,   69.86880698,\n",
       "         69.86875868,   69.86871114,   69.86866435,   69.86861828,\n",
       "         69.86857293,   69.86852829,   69.86848435,   69.86844109,\n",
       "         69.8683985 ,   69.86835659,   69.86831532,   69.8682747 ,\n",
       "         69.86823471,   69.86819535,   69.8681566 ,   69.86811846,\n",
       "         69.86808091,   69.86804395,   69.86800756,   69.86797174,\n",
       "         69.86793648,   69.86790177,   69.86786761,   69.86783397,\n",
       "         69.86780086,   69.86776827,   69.86773619,   69.8677046 ,\n",
       "         69.86767351,   69.86764291,   69.86761278,   69.86758312,\n",
       "         69.86755393,   69.86752519,   69.86749689,   69.86746904,\n",
       "         69.86744163,   69.86741464,   69.86738808,   69.86736192,\n",
       "         69.86733618,   69.86731084,   69.86728589,   69.86726133,\n",
       "         69.86723716,   69.86721336,   69.86718994,   69.86716688,\n",
       "         69.86714418,   69.86712183,   69.86709983,   69.86707818,\n",
       "         69.86705686,   69.86703588,   69.86701522,   69.86699489,\n",
       "         69.86697487,   69.86695516,   69.86693577,   69.86691667,\n",
       "         69.86689788,   69.86687937,   69.86686116,   69.86684323,\n",
       "         69.86682558,   69.8668082 ,   69.8667911 ,   69.86677426,\n",
       "         69.86675768,   69.86674137,   69.86672531,   69.8667095 ,\n",
       "         69.86669393,   69.86667861,   69.86666353,   69.86664868,\n",
       "         69.86663406,   69.86661968,   69.86660551,   69.86659157,\n",
       "         69.86657785,   69.86656434,   69.86655104,   69.86653794,\n",
       "         69.86652506,   69.86651237,   69.86649988,   69.86648759,\n",
       "         69.86647548,   69.86646357,   69.86645184,   69.8664403 ,\n",
       "         69.86642893,   69.86641775,   69.86640673,   69.86639589,\n",
       "         69.86638522,   69.86637471,   69.86636437,   69.86635419,\n",
       "         69.86634417,   69.86633431,   69.8663246 ,   69.86631504,\n",
       "         69.86630563,   69.86629636,   69.86628724,   69.86627827,\n",
       "         69.86626943,   69.86626073,   69.86625217,   69.86624374,\n",
       "         69.86623544,   69.86622727,   69.86621923,   69.86621131,\n",
       "         69.86620352,   69.86619585,   69.8661883 ,   69.86618086,\n",
       "         69.86617355,   69.86616634,   69.86615925,   69.86615227,\n",
       "         69.8661454 ,   69.86613864,   69.86613198,   69.86612542,\n",
       "         69.86611897,   69.86611262,   69.86610637,   69.86610021,\n",
       "         69.86609415,   69.86608819,   69.86608231,   69.86607653,\n",
       "         69.86607084,   69.86606524,   69.86605973,   69.8660543 ,\n",
       "         69.86604896,   69.8660437 ,   69.86603852,   69.86603342,\n",
       "         69.86602841,   69.86602347,   69.8660186 ,   69.86601382,\n",
       "         69.86600911,   69.86600447,   69.8659999 ,   69.86599541,\n",
       "         69.86599098,   69.86598663,   69.86598234,   69.86597812,\n",
       "         69.86597396,   69.86596987,   69.86596585,   69.86596188])"
      ]
     },
     "execution_count": 200,
     "metadata": {},
     "output_type": "execute_result"
    }
   ],
   "source": [
    "\n",
    "theta_final, cost_history=grad_descent(X, y, theta, learning_rate=0.01, n_iterations=1000)\n",
    "theta_final, \n",
    "cost_history"
   ]
  },
  {
   "cell_type": "code",
   "execution_count": 201,
   "metadata": {},
   "outputs": [
    {
     "data": {
      "text/plain": [
       "[<matplotlib.lines.Line2D at 0x25bca6105b0>]"
      ]
     },
     "execution_count": 201,
     "metadata": {},
     "output_type": "execute_result"
    },
    {
     "data": {
      "image/png": "[encoded data removed]",
      "text/plain": [
       "<Figure size 432x288 with 1 Axes>"
      ]
     },
     "metadata": {
      "needs_background": "light"
     },
     "output_type": "display_data"
    }
   ],
   "source": [
    "prediction= model(X, theta_final)\n",
    "plt.scatter(x,y)\n",
    "plt.plot(x,prediction, c='r')"
   ]
  },
  {
   "cell_type": "code",
   "execution_count": 202,
   "metadata": {},
   "outputs": [
    {
     "data": {
      "text/plain": [
       "[<matplotlib.lines.Line2D at 0x25bca524850>]"
      ]
     },
     "execution_count": 202,
     "metadata": {},
     "output_type": "execute_result"
    },
    {
     "data": {
      "image/png": "[encoded data removed]",
      "text/plain": [
       "<Figure size 432x288 with 1 Axes>"
      ]
     },
     "metadata": {
      "needs_background": "light"
     },
     "output_type": "display_data"
    }
   ],
   "source": [
    "plt.plot(range(1000),cost_history)"
   ]
  },
  {
   "cell_type": "code",
   "execution_count": 203,
   "metadata": {},
   "outputs": [],
   "source": [
    "def coef_determination(y, pred):\n",
    "    u= ((y-pred)**2).sum()\n",
    "    v= ((y-y.mean())**2).sum()\n",
    "    return 1-u/v\n",
    "    "
   ]
  },
  {
   "cell_type": "code",
   "execution_count": 204,
   "metadata": {},
   "outputs": [
    {
     "data": {
      "text/plain": [
       "0.9624910339651085"
      ]
     },
     "execution_count": 204,
     "metadata": {},
     "output_type": "execute_result"
    }
   ],
   "source": [
    "coef_determination(y,prediction)"
   ]
  }
 ],
 "metadata": {
  "kernelspec": {
   "display_name": "Python 3.9.7 ('base')",
   "language": "python",
   "name": "python3"
  },
  "language_info": {
   "codemirror_mode": {
    "name": "ipython",
    "version": 3
   },
   "file_extension": ".py",
   "mimetype": "text/x-python",
   "name": "python",
   "nbconvert_exporter": "python",
   "pygments_lexer": "ipython3",
   "version": "3.9.7"
  },
  "orig_nbformat": 4,
  "vscode": {
   "interpreter": {
    "hash": "87b8fb8d16cdf99b6034b943f2ca785673a7170f446a0e2dcdc86a306e0140dc"
   }
  }
 },
 "nbformat": 4,
 "nbformat_minor": 2
}
