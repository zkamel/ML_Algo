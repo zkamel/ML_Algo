{
 "cells": [
  {
   "cell_type": "code",
   "execution_count": 1,
   "metadata": {},
   "outputs": [],
   "source": [
    "import numpy as np\n",
    "from sklearn.datasets import make_regression\n",
    "import matplotlib.pyplot as plt"
   ]
  },
  {
   "cell_type": "markdown",
   "metadata": {},
   "source": [
    "# Dataset"
   ]
  },
  {
   "cell_type": "code",
   "execution_count": 2,
   "metadata": {},
   "outputs": [
    {
     "data": {
      "text/plain": [
       "<matplotlib.collections.PathCollection at 0x1ca5b56a160>"
      ]
     },
     "execution_count": 2,
     "metadata": {},
     "output_type": "execute_result"
    },
    {
     "data": {
      "image/png": "[encoded data removed]",
      "text/plain": [
       "<Figure size 432x288 with 1 Axes>"
      ]
     },
     "metadata": {
      "needs_background": "light"
     },
     "output_type": "display_data"
    }
   ],
   "source": [
    "x,y =make_regression(n_samples = 100, n_features=1, noise=10)\n",
    "plt.scatter(x,y)"
   ]
  },
  {
   "cell_type": "code",
   "execution_count": 3,
   "metadata": {},
   "outputs": [
    {
     "name": "stdout",
     "output_type": "stream",
     "text": [
      "(100, 1)\n",
      "(100, 1)\n"
     ]
    }
   ],
   "source": [
    "print(x.shape)\n",
    "y=y.reshape(y.shape[0],1   )\n",
    "print(y.shape)"
   ]
  },
  {
   "cell_type": "code",
   "execution_count": 4,
   "metadata": {},
   "outputs": [
    {
     "data": {
      "text/plain": [
       "(100, 2)"
      ]
     },
     "execution_count": 4,
     "metadata": {},
     "output_type": "execute_result"
    }
   ],
   "source": [
    "## Matrice X\n",
    "X = np.hstack((x, np.ones(x.shape)))\n",
    "X.shape"
   ]
  },
  {
   "cell_type": "code",
   "execution_count": 5,
   "metadata": {},
   "outputs": [
    {
     "data": {
      "text/plain": [
       "array([[0.00975135],\n",
       "       [1.24403857]])"
      ]
     },
     "execution_count": 5,
     "metadata": {},
     "output_type": "execute_result"
    }
   ],
   "source": [
    "theta= np.random.randn(2,1)\n",
    "theta"
   ]
  },
  {
   "cell_type": "markdown",
   "metadata": {},
   "source": [
    "# Modele"
   ]
  },
  {
   "cell_type": "markdown",
   "metadata": {},
   "source": [
    "$$\n",
    "y=ax+b\n",
    "$$"
   ]
  },
  {
   "cell_type": "code",
   "execution_count": 6,
   "metadata": {},
   "outputs": [],
   "source": [
    "def model(X, theta):\n",
    "    return np.dot(X,theta) # prediction= model(X, theta_final) #X.dot(theta)\n",
    "    "
   ]
  },
  {
   "cell_type": "code",
   "execution_count": 7,
   "metadata": {},
   "outputs": [],
   "source": [
    "m=model(X, theta)\n"
   ]
  },
  {
   "cell_type": "code",
   "execution_count": 8,
   "metadata": {},
   "outputs": [
    {
     "data": {
      "text/plain": [
       "[<matplotlib.lines.Line2D at 0x1ca5b672730>]"
      ]
     },
     "execution_count": 8,
     "metadata": {},
     "output_type": "execute_result"
    },
    {
     "data": {
      "image/png": "[encoded data removed]",
      "text/plain": [
       "<Figure size 432x288 with 1 Axes>"
      ]
     },
     "metadata": {
      "needs_background": "light"
     },
     "output_type": "display_data"
    }
   ],
   "source": [
    "plt.scatter(x,y)\n",
    "plt.plot(x,model(X,theta))"
   ]
  },
  {
   "cell_type": "markdown",
   "metadata": {},
   "source": [
    "# Fonction cout"
   ]
  },
  {
   "cell_type": "code",
   "execution_count": 9,
   "metadata": {},
   "outputs": [],
   "source": [
    "def cost_function(x, y, theta):\n",
    "    m = len(y)\n",
    "    return 1/(2*m) * np.sum(( model(X,theta) - y )**2)"
   ]
  },
  {
   "cell_type": "code",
   "execution_count": 10,
   "metadata": {},
   "outputs": [
    {
     "data": {
      "text/plain": [
       "1126.1259728961377"
      ]
     },
     "execution_count": 10,
     "metadata": {},
     "output_type": "execute_result"
    }
   ],
   "source": [
    "cost_function(x,y, theta)\n"
   ]
  },
  {
   "cell_type": "markdown",
   "metadata": {},
   "source": [
    "# Gradients et Descente de Gradient"
   ]
  },
  {
   "cell_type": "code",
   "execution_count": 11,
   "metadata": {},
   "outputs": [],
   "source": [
    "def grad(X,y,theta):\n",
    "    m=len(y)\n",
    "    return 1/m * X.T.dot(model(X, theta)-y)"
   ]
  },
  {
   "cell_type": "code",
   "execution_count": 12,
   "metadata": {},
   "outputs": [],
   "source": [
    "def grad_descent(X,y, theta, learning_rate, n_iterations):\n",
    "    cost_history= np.zeros(n_iterations)\n",
    "    for i in range(0, n_iterations):\n",
    "        theta = theta - learning_rate * grad(X, y, theta)\n",
    "        cost_history[i]=cost_function(X,y,theta)\n",
    "    return theta, cost_history"
   ]
  },
  {
   "cell_type": "markdown",
   "metadata": {},
   "source": [
    "# Machine learning"
   ]
  },
  {
   "cell_type": "code",
   "execution_count": 13,
   "metadata": {},
   "outputs": [
    {
     "data": {
      "text/plain": [
       "array([1105.46815534, 1085.20560716, 1065.3307472 , 1045.83614007,\n",
       "       1026.71449333, 1007.95865473,  989.56160953,  971.51647782,\n",
       "        953.81651196,  936.455094  ,  919.42573317,  902.72206347,\n",
       "        886.33784124,  870.26694282,  854.50336219,  839.04120879,\n",
       "        823.87470519,  808.99818501,  794.40609071,  780.09297154,\n",
       "        766.05348144,  752.28237708,  738.77451582,  725.52485381,\n",
       "        712.52844408,  699.78043467,  687.2760668 ,  675.01067308,\n",
       "        662.97967576,  651.17858497,  639.60299707,  628.24859298,\n",
       "        617.11113652,  606.18647285,  595.4705269 ,  584.95930182,\n",
       "        574.64887748,  564.535409  ,  554.6151253 ,  544.88432769,\n",
       "        535.33938843,  525.97674943,  516.79292088,  507.78447993,\n",
       "        498.94806939,  490.28039652,  481.77823173,  473.43840741,\n",
       "        465.2578167 ,  457.23341236,  449.36220558,  441.6412649 ,\n",
       "        434.0677151 ,  426.63873607,  419.35156181,  412.20347936,\n",
       "        405.1918278 ,  398.31399722,  391.56742776,  384.94960865,\n",
       "        378.45807725,  372.09041815,  365.84426222,  359.71728578,\n",
       "        353.70720968,  347.81179845,  342.02885949,  336.3562422 ,\n",
       "        330.79183721,  325.3335756 ,  319.97942806,  314.72740418,\n",
       "        309.57555172,  304.5219558 ,  299.56473827,  294.70205695,\n",
       "        289.93210495,  285.25311001,  280.66333379,  276.16107129,\n",
       "        271.74465014,  267.41243002,  263.16280201,  258.99418804,\n",
       "        254.90504021,  250.89384031,  246.95909917,  243.09935617,\n",
       "        239.31317862,  235.59916129,  231.95592584,  228.38212033,\n",
       "        224.87641869,  221.43752024,  218.06414921,  214.75505422,\n",
       "        211.50900788,  208.32480626,  205.2012685 ,  202.13723631,\n",
       "        199.1315736 ,  196.18316598,  193.29092042,  190.45376479,\n",
       "        187.67064747,  184.94053697,  182.26242152,  179.63530873,\n",
       "        177.05822517,  174.53021603,  172.0503448 ,  169.61769284,\n",
       "        167.2313591 ,  164.89045976,  162.59412791,  160.3415132 ,\n",
       "        158.13178157,  155.96411488,  153.83771066,  151.75178175,\n",
       "        149.70555607,  147.69827629,  145.72919957,  143.79759724,\n",
       "        141.9027546 ,  140.04397057,  138.22055751,  136.4318409 ,\n",
       "        134.67715911,  132.95586316,  131.26731648,  129.61089466,\n",
       "        127.98598521,  126.39198736,  124.82831182,  123.29438054,\n",
       "        121.78962653,  120.31349363,  118.8654363 ,  117.44491943,\n",
       "        116.05141812,  114.68441751,  113.34341255,  112.02790787,\n",
       "        110.73741753,  109.47146489,  108.22958241,  107.01131146,\n",
       "        105.8162022 ,  104.64381335,  103.49371207,  102.36547378,\n",
       "        101.25868201,  100.17292823,   99.10781172,   98.06293941,\n",
       "         97.03792572,   96.03239245,   95.0459686 ,   94.07829026,\n",
       "         93.12900046,   92.19774906,   91.28419256,   90.38799407,\n",
       "         89.50882309,   88.64635544,   87.80027312,   86.9702642 ,\n",
       "         86.15602269,   85.35724847,   84.57364711,   83.80492981,\n",
       "         83.05081328,   82.31101963,   81.58527628,   80.87331584,\n",
       "         80.17487601,   79.48969951,   78.81753397,   78.1581318 ,\n",
       "         77.51125018,   76.87665086,   76.2541002 ,   75.64336895,\n",
       "         75.04423228,   74.45646962,   73.87986462,   73.31420503,\n",
       "         72.75928267,   72.21489332,   71.68083665,   71.15691616,\n",
       "         70.64293907,   70.1387163 ,   69.64406236,   69.15879529,\n",
       "         68.68273662,   68.21571125,   67.75754744,   67.30807671,\n",
       "         66.86713379,   66.43455656,   66.010186  ,   65.59386611,\n",
       "         65.18544385,   64.78476911,   64.39169464,   64.00607599,\n",
       "         63.62777145,   63.25664203,   62.89255137,   62.53536572,\n",
       "         62.18495387,   61.8411871 ,   61.50393916,   61.17308618,\n",
       "         60.84850668,   60.53008145,   60.2176936 ,   59.91122842,\n",
       "         59.61057341,   59.3156182 ,   59.02625453,   58.74237619,\n",
       "         58.463879  ,   58.19066076,   57.92262122,   57.65966202,\n",
       "         57.40168668,   57.14860058,   56.90031087,   56.65672647,\n",
       "         56.41775805,   56.18331796,   55.95332024,   55.72768054,\n",
       "         55.50631613,   55.28914585,   55.07609009,   54.86707074,\n",
       "         54.66201119,   54.46083628,   54.26347228,   54.06984687,\n",
       "         53.87988908,   53.69352932,   53.51069931,   53.33133207,\n",
       "         53.15536189,   52.98272432,   52.81335612,   52.64719525,\n",
       "         52.48418088,   52.3242533 ,   52.16735396,   52.01342541,\n",
       "         51.86241129,   51.71425633,   51.56890628,   51.42630795,\n",
       "         51.28640915,   51.14915867,   51.0145063 ,   50.88240275,\n",
       "         50.7527997 ,   50.62564973,   50.50090632,   50.37852384,\n",
       "         50.25845752,   50.14066344,   50.02509854,   49.91172054,\n",
       "         49.80048799,   49.69136021,   49.5842973 ,   49.47926013,\n",
       "         49.37621029,   49.27511011,   49.17592265,   49.07861165,\n",
       "         48.98314154,   48.88947744,   48.79758512,   48.70743101,\n",
       "         48.61898217,   48.53220628,   48.44707165,   48.36354718,\n",
       "         48.28160235,   48.20120725,   48.12233251,   48.04494932,\n",
       "         47.96902944,   47.89454514,   47.82146923,   47.74977503,\n",
       "         47.67943637,   47.61042758,   47.54272346,   47.47629931,\n",
       "         47.41113089,   47.34719441,   47.28446655,   47.22292442,\n",
       "         47.16254556,   47.10330795,   47.04518999,   46.98817046,\n",
       "         46.93222858,   46.87734395,   46.82349653,   46.77066671,\n",
       "         46.71883522,   46.66798316,   46.61809198,   46.56914351,\n",
       "         46.52111989,   46.47400363,   46.42777755,   46.3824248 ,\n",
       "         46.33792886,   46.29427351,   46.25144284,   46.20942125,\n",
       "         46.16819343,   46.12774435,   46.08805929,   46.04912379,\n",
       "         46.01092367,   45.97344501,   45.93667416,   45.90059774,\n",
       "         45.86520261,   45.83047588,   45.79640491,   45.76297729,\n",
       "         45.73018086,   45.69800368,   45.66643402,   45.63546042,\n",
       "         45.60507159,   45.57525647,   45.54600421,   45.51730418,\n",
       "         45.48914592,   45.4615192 ,   45.43441397,   45.40782036,\n",
       "         45.3817287 ,   45.3561295 ,   45.33101345,   45.30637142,\n",
       "         45.28219445,   45.25847374,   45.23520067,   45.21236678,\n",
       "         45.18996377,   45.16798349,   45.14641795,   45.12525933,\n",
       "         45.10449991,   45.08413217,   45.0641487 ,   45.04454223,\n",
       "         45.02530565,   45.00643196,   44.98791431,   44.96974597,\n",
       "         44.95192033,   44.93443094,   44.91727142,   44.90043556,\n",
       "         44.88391723,   44.86771044,   44.85180931,   44.83620805,\n",
       "         44.82090101,   44.80588262,   44.79114744,   44.77669011,\n",
       "         44.7625054 ,   44.74858814,   44.7349333 ,   44.7215359 ,\n",
       "         44.7083911 ,   44.69549412,   44.68284028,   44.670425  ,\n",
       "         44.65824376,   44.64629214,   44.63456583,   44.62306054,\n",
       "         44.61177213,   44.60069649,   44.5898296 ,   44.57916753,\n",
       "         44.5687064 ,   44.55844243,   44.54837189,   44.53849114,\n",
       "         44.52879659,   44.51928472,   44.50995209,   44.50079531,\n",
       "         44.49181108,   44.48299612,   44.47434725,   44.46586133,\n",
       "         44.45753529,   44.44936611,   44.44135083,   44.43348655,\n",
       "         44.42577042,   44.41819964,   44.41077147,   44.40348322,\n",
       "         44.39633225,   44.38931598,   44.38243185,   44.37567738,\n",
       "         44.36905013,   44.36254768,   44.3561677 ,   44.34990786,\n",
       "         44.34376591,   44.33773961,   44.3318268 ,   44.32602532,\n",
       "         44.32033308,   44.31474802,   44.30926812,   44.30389139,\n",
       "         44.29861589,   44.29343971,   44.28836098,   44.28337786,\n",
       "         44.27848855,   44.27369128,   44.26898431,   44.26436594,\n",
       "         44.25983451,   44.25538837,   44.25102592,   44.24674557,\n",
       "         44.24254578,   44.23842504,   44.23438184,   44.23041474,\n",
       "         44.2265223 ,   44.2227031 ,   44.21895577,   44.21527896,\n",
       "         44.21167133,   44.20813159,   44.20465845,   44.20125065,\n",
       "         44.19790698,   44.19462621,   44.19140716,   44.18824868,\n",
       "         44.18514962,   44.18210885,   44.17912529,   44.17619785,\n",
       "         44.17332548,   44.17050714,   44.16774181,   44.16502849,\n",
       "         44.16236621,   44.159754  ,   44.15719092,   44.15467605,\n",
       "         44.15220847,   44.14978729,   44.14741165,   44.14508068,\n",
       "         44.14279355,   44.14054942,   44.13834749,   44.13618697,\n",
       "         44.13406706,   44.13198702,   44.12994608,   44.12794352,\n",
       "         44.1259786 ,   44.12405063,   44.1221589 ,   44.12030274,\n",
       "         44.11848146,   44.11669443,   44.11494099,   44.1132205 ,\n",
       "         44.11153236,   44.10987595,   44.10825067,   44.10665594,\n",
       "         44.10509118,   44.10355583,   44.10204933,   44.10057115,\n",
       "         44.09912074,   44.0976976 ,   44.09630119,   44.09493103,\n",
       "         44.09358661,   44.09226746,   44.09097309,   44.08970304,\n",
       "         44.08845686,   44.08723409,   44.08603429,   44.08485704,\n",
       "         44.0837019 ,   44.08256846,   44.08145632,   44.08036507,\n",
       "         44.07929432,   44.07824368,   44.07721278,   44.07620124,\n",
       "         44.0752087 ,   44.07423481,   44.0732792 ,   44.07234155,\n",
       "         44.0714215 ,   44.07051874,   44.06963293,   44.06876375,\n",
       "         44.0679109 ,   44.06707407,   44.06625295,   44.06544724,\n",
       "         44.06465667,   44.06388094,   44.06311978,   44.06237291,\n",
       "         44.06164007,   44.06092098,   44.06021539,   44.05952306,\n",
       "         44.05884372,   44.05817713,   44.05752306,   44.05688126,\n",
       "         44.05625152,   44.05563359,   44.05502727,   44.05443232,\n",
       "         44.05384855,   44.05327573,   44.05271366,   44.05216215,\n",
       "         44.05162098,   44.05108997,   44.05056893,   44.05005766,\n",
       "         44.04955599,   44.04906374,   44.04858072,   44.04810677,\n",
       "         44.04764171,   44.04718538,   44.04673761,   44.04629824,\n",
       "         44.04586712,   44.04544409,   44.04502899,   44.04462168,\n",
       "         44.04422201,   44.04382985,   44.04344504,   44.04306744,\n",
       "         44.04269694,   44.04233338,   44.04197664,   44.0416266 ,\n",
       "         44.04128312,   44.04094608,   44.04061537,   44.04029086,\n",
       "         44.03997243,   44.03965998,   44.03935339,   44.03905255,\n",
       "         44.03875735,   44.03846769,   44.03818346,   44.03790456,\n",
       "         44.03763089,   44.03736236,   44.03709885,   44.03684029,\n",
       "         44.03658658,   44.03633763,   44.03609334,   44.03585364,\n",
       "         44.03561843,   44.03538762,   44.03516115,   44.03493892,\n",
       "         44.03472086,   44.03450689,   44.03429693,   44.0340909 ,\n",
       "         44.03388874,   44.03369037,   44.03349571,   44.03330471,\n",
       "         44.03311728,   44.03293337,   44.03275291,   44.03257582,\n",
       "         44.03240206,   44.03223156,   44.03206425,   44.03190007,\n",
       "         44.03173897,   44.0315809 ,   44.03142578,   44.03127357,\n",
       "         44.03112422,   44.03097766,   44.03083385,   44.03069273,\n",
       "         44.03055426,   44.03041838,   44.03028505,   44.03015422,\n",
       "         44.03002584,   44.02989986,   44.02977625,   44.02965495,\n",
       "         44.02953592,   44.02941913,   44.02930452,   44.02919206,\n",
       "         44.0290817 ,   44.02897341,   44.02886716,   44.02876289,\n",
       "         44.02866057,   44.02856017,   44.02846166,   44.02836499,\n",
       "         44.02827012,   44.02817704,   44.0280857 ,   44.02799607,\n",
       "         44.02790812,   44.02782181,   44.02773712,   44.02765402,\n",
       "         44.02757248,   44.02749246,   44.02741394,   44.02733689,\n",
       "         44.02726128,   44.02718709,   44.02711429,   44.02704285,\n",
       "         44.02697275,   44.02690396,   44.02683646,   44.02677023,\n",
       "         44.02670523,   44.02664145,   44.02657887,   44.02651745,\n",
       "         44.02645719,   44.02639806,   44.02634003,   44.02628309,\n",
       "         44.02622721,   44.02617238,   44.02611858,   44.02606578,\n",
       "         44.02601397,   44.02596314,   44.02591325,   44.0258643 ,\n",
       "         44.02581626,   44.02576912,   44.02572287,   44.02567748,\n",
       "         44.02563294,   44.02558923,   44.02554634,   44.02550426,\n",
       "         44.02546296,   44.02542244,   44.02538267,   44.02534365,\n",
       "         44.02530536,   44.02526778,   44.02523091,   44.02519472,\n",
       "         44.02515922,   44.02512438,   44.02509019,   44.02505664,\n",
       "         44.02502372,   44.02499141,   44.02495971,   44.0249286 ,\n",
       "         44.02489808,   44.02486812,   44.02483873,   44.02480988,\n",
       "         44.02478158,   44.0247538 ,   44.02472655,   44.0246998 ,\n",
       "         44.02467355,   44.0246478 ,   44.02462253,   44.02459773,\n",
       "         44.02457339,   44.02454951,   44.02452607,   44.02450308,\n",
       "         44.02448051,   44.02445837,   44.02443664,   44.02441531,\n",
       "         44.02439439,   44.02437386,   44.02435371,   44.02433393,\n",
       "         44.02431453,   44.02429549,   44.02427681,   44.02425847,\n",
       "         44.02424048,   44.02422283,   44.0242055 ,   44.0241885 ,\n",
       "         44.02417182,   44.02415545,   44.02413938,   44.02412362,\n",
       "         44.02410815,   44.02409297,   44.02407807,   44.02406345,\n",
       "         44.02404911,   44.02403503,   44.02402122,   44.02400766,\n",
       "         44.02399436,   44.02398131,   44.0239685 ,   44.02395593,\n",
       "         44.02394359,   44.02393149,   44.02391961,   44.02390795,\n",
       "         44.02389652,   44.02388529,   44.02387428,   44.02386347,\n",
       "         44.02385286,   44.02384245,   44.02383224,   44.02382222,\n",
       "         44.02381238,   44.02380273,   44.02379326,   44.02378396,\n",
       "         44.02377484,   44.02376589,   44.02375711,   44.02374849,\n",
       "         44.02374003,   44.02373173,   44.02372359,   44.02371559,\n",
       "         44.02370775,   44.02370005,   44.0236925 ,   44.02368509,\n",
       "         44.02367782,   44.02367068,   44.02366368,   44.0236568 ,\n",
       "         44.02365006,   44.02364344,   44.02363694,   44.02363057,\n",
       "         44.02362432,   44.02361818,   44.02361216,   44.02360625,\n",
       "         44.02360045,   44.02359475,   44.02358917,   44.02358369,\n",
       "         44.02357831,   44.02357303,   44.02356785,   44.02356277,\n",
       "         44.02355778,   44.02355288,   44.02354808,   44.02354337,\n",
       "         44.02353874,   44.0235342 ,   44.02352975,   44.02352538,\n",
       "         44.02352109,   44.02351688,   44.02351275,   44.02350869,\n",
       "         44.02350472,   44.02350081,   44.02349698,   44.02349322,\n",
       "         44.02348953,   44.02348591,   44.02348236,   44.02347887,\n",
       "         44.02347545,   44.0234721 ,   44.0234688 ,   44.02346557,\n",
       "         44.0234624 ,   44.02345928,   44.02345623,   44.02345323,\n",
       "         44.02345029,   44.0234474 ,   44.02344457,   44.02344178,\n",
       "         44.02343906,   44.02343638,   44.02343375,   44.02343117,\n",
       "         44.02342864,   44.02342616,   44.02342372,   44.02342133,\n",
       "         44.02341898,   44.02341668,   44.02341442,   44.0234122 ,\n",
       "         44.02341003,   44.02340789,   44.02340579,   44.02340374,\n",
       "         44.02340172,   44.02339974,   44.02339779,   44.02339589,\n",
       "         44.02339402,   44.02339218,   44.02339038,   44.02338861,\n",
       "         44.02338687,   44.02338517,   44.0233835 ,   44.02338186,\n",
       "         44.02338025,   44.02337867,   44.02337711,   44.02337559,\n",
       "         44.0233741 ,   44.02337263,   44.0233712 ,   44.02336979,\n",
       "         44.0233684 ,   44.02336704,   44.02336571,   44.0233644 ,\n",
       "         44.02336312,   44.02336186,   44.02336062,   44.02335941,\n",
       "         44.02335821,   44.02335705,   44.0233559 ,   44.02335477,\n",
       "         44.02335367,   44.02335258,   44.02335152,   44.02335048,\n",
       "         44.02334945,   44.02334845,   44.02334746,   44.02334649,\n",
       "         44.02334554,   44.02334461,   44.02334369,   44.0233428 ,\n",
       "         44.02334191,   44.02334105,   44.0233402 ,   44.02333937,\n",
       "         44.02333855,   44.02333775,   44.02333696,   44.02333619,\n",
       "         44.02333543,   44.02333469,   44.02333396,   44.02333324,\n",
       "         44.02333254,   44.02333185,   44.02333117,   44.02333051,\n",
       "         44.02332986,   44.02332922,   44.02332859,   44.02332797,\n",
       "         44.02332737,   44.02332677,   44.02332619,   44.02332562,\n",
       "         44.02332506,   44.02332451,   44.02332397,   44.02332344,\n",
       "         44.02332292,   44.02332241,   44.02332191,   44.02332142,\n",
       "         44.02332093,   44.02332046,   44.02331999,   44.02331954,\n",
       "         44.02331909,   44.02331865,   44.02331822,   44.0233178 ,\n",
       "         44.02331738,   44.02331698,   44.02331658,   44.02331618,\n",
       "         44.0233158 ,   44.02331542,   44.02331505,   44.02331469,\n",
       "         44.02331433,   44.02331398,   44.02331364,   44.0233133 ,\n",
       "         44.02331297,   44.02331264,   44.02331232,   44.02331201,\n",
       "         44.0233117 ,   44.0233114 ,   44.02331111,   44.02331082,\n",
       "         44.02331053,   44.02331025,   44.02330998,   44.02330971,\n",
       "         44.02330944,   44.02330919,   44.02330893,   44.02330868,\n",
       "         44.02330844,   44.0233082 ,   44.02330796,   44.02330773,\n",
       "         44.0233075 ,   44.02330728,   44.02330706,   44.02330684,\n",
       "         44.02330663,   44.02330643,   44.02330622,   44.02330602,\n",
       "         44.02330583,   44.02330564,   44.02330545,   44.02330526,\n",
       "         44.02330508,   44.0233049 ,   44.02330473,   44.02330456,\n",
       "         44.02330439,   44.02330423,   44.02330406,   44.0233039 ,\n",
       "         44.02330375,   44.0233036 ,   44.02330345,   44.0233033 ,\n",
       "         44.02330315,   44.02330301,   44.02330287,   44.02330273,\n",
       "         44.0233026 ,   44.02330247,   44.02330234,   44.02330221,\n",
       "         44.02330209,   44.02330197,   44.02330185,   44.02330173])"
      ]
     },
     "execution_count": 13,
     "metadata": {},
     "output_type": "execute_result"
    }
   ],
   "source": [
    "\n",
    "theta_final, cost_history=grad_descent(X, y, theta, learning_rate=0.01, n_iterations=1000)\n",
    "theta_final, \n",
    "cost_history"
   ]
  },
  {
   "cell_type": "code",
   "execution_count": 14,
   "metadata": {},
   "outputs": [
    {
     "data": {
      "text/plain": [
       "[<matplotlib.lines.Line2D at 0x1ca5b6afdc0>]"
      ]
     },
     "execution_count": 14,
     "metadata": {},
     "output_type": "execute_result"
    },
    {
     "data": {
      "image/png": "[encoded data removed]",
      "text/plain": [
       "<Figure size 432x288 with 1 Axes>"
      ]
     },
     "metadata": {
      "needs_background": "light"
     },
     "output_type": "display_data"
    }
   ],
   "source": [
    "prediction= model(X, theta_final)\n",
    "plt.scatter(x,y)\n",
    "plt.plot(x,prediction, c='r')"
   ]
  },
  {
   "cell_type": "code",
   "execution_count": 15,
   "metadata": {},
   "outputs": [
    {
     "data": {
      "text/plain": [
       "[<matplotlib.lines.Line2D at 0x1ca5c70c7f0>]"
      ]
     },
     "execution_count": 15,
     "metadata": {},
     "output_type": "execute_result"
    },
    {
     "data": {
      "image/png": "[encoded data removed]",
      "text/plain": [
       "<Figure size 432x288 with 1 Axes>"
      ]
     },
     "metadata": {
      "needs_background": "light"
     },
     "output_type": "display_data"
    }
   ],
   "source": [
    "plt.plot(range(1000),cost_history)"
   ]
  },
  {
   "cell_type": "code",
   "execution_count": 16,
   "metadata": {},
   "outputs": [],
   "source": [
    "# Méthode des moindres carrés \n",
    "def coef_determination(y, pred):\n",
    "    u= ((y-pred)**2).sum()\n",
    "    v= ((y-y.mean())**2).sum()\n",
    "    return 1-u/v\n",
    "    "
   ]
  },
  {
   "cell_type": "code",
   "execution_count": 17,
   "metadata": {},
   "outputs": [
    {
     "data": {
      "text/plain": [
       "0.9608755367078898"
      ]
     },
     "execution_count": 17,
     "metadata": {},
     "output_type": "execute_result"
    }
   ],
   "source": [
    "coef_determination(y,prediction)"
   ]
  }
 ],
 "metadata": {
  "kernelspec": {
   "display_name": "Python 3.9.7 ('base')",
   "language": "python",
   "name": "python3"
  },
  "language_info": {
   "codemirror_mode": {
    "name": "ipython",
    "version": 3
   },
   "file_extension": ".py",
   "mimetype": "text/x-python",
   "name": "python",
   "nbconvert_exporter": "python",
   "pygments_lexer": "ipython3",
   "version": "3.9.7"
  },
  "orig_nbformat": 4,
  "vscode": {
   "interpreter": {
    "hash": "87b8fb8d16cdf99b6034b943f2ca785673a7170f446a0e2dcdc86a306e0140dc"
   }
  }
 },
 "nbformat": 4,
 "nbformat_minor": 2
}
